{
 "cells": [
  {
   "cell_type": "code",
   "execution_count": 1,
   "id": "0974a7c5-25bc-4c72-9deb-e57afe179f79",
   "metadata": {},
   "outputs": [],
   "source": [
    "%%cpp -d\n",
    "//RNTUPLE headers\n",
    "#include <ROOT/RNTuple.hxx>\n",
    "#include <ROOT/RNTupleModel.hxx>\n",
    "#include \"nlohmann/json.hpp\"\n",
    "#include <cstdio>\n"
   ]
  },
  {
   "cell_type": "code",
   "execution_count": 2,
   "id": "566fc77d-fb6e-477b-b6e1-daeedbca7063",
   "metadata": {},
   "outputs": [],
   "source": [
    "//copy past from SZ3/Config.hpp\n",
    "/*\n",
    "namespace SZ3{\n",
    "    enum EB {\n",
    "        EB_ABS, EB_REL, EB_PSNR, EB_L2NORM, EB_ABS_AND_REL, EB_ABS_OR_REL\n",
    "    };\n",
    "    constexpr const char *EB_STR[] = {\"ABS\", \"REL\", \"PSNR\", \"NORM\", \"ABS_AND_REL\", \"ABS_OR_REL\"};\n",
    "    constexpr EB EB_OPTIONS[] = {EB_ABS, EB_REL, EB_PSNR, EB_L2NORM, EB_ABS_AND_REL, EB_ABS_OR_REL};\n",
    "\n",
    "    enum ALGO {\n",
    "        ALGO_LORENZO_REG, ALGO_INTERP_LORENZO, ALGO_INTERP\n",
    "    };\n",
    "    constexpr const char *ALGO_STR[] = {\"ALGO_LORENZO_REG\", \"ALGO_INTERP_LORENZO\", \"ALGO_INTERP\"};\n",
    "    constexpr const ALGO ALGO_OPTIONS[] = {ALGO_LORENZO_REG, ALGO_INTERP_LORENZO, ALGO_INTERP};\n",
    "\n",
    "    enum INTERP_ALGO {\n",
    "        INTERP_ALGO_LINEAR, INTERP_ALGO_CUBIC\n",
    "    };\n",
    "    constexpr const char *INTERP_ALGO_STR[] = {\"INTERP_ALGO_LINEAR\", \"INTERP_ALGO_CUBIC\"};\n",
    "    constexpr INTERP_ALGO INTERP_ALGO_OPTIONS[] = {INTERP_ALGO_LINEAR, INTERP_ALGO_CUBIC};\n",
    "\n",
    "}\n",
    "*/\n",
    "std::string fname = \"/home/abashyal/git_compression/compressiontests/test_SZ3_compression.root\";"
   ]
  },
  {
   "cell_type": "code",
   "execution_count": 3,
   "id": "a5825223-fa98-4f67-a542-2d95aaeee951",
   "metadata": {},
   "outputs": [],
   "source": [
    "using namespace ROOT::Experimental;"
   ]
  },
  {
   "cell_type": "code",
   "execution_count": 4,
   "id": "ad052860-6b41-48c3-a49f-e0bbb2296698",
   "metadata": {},
   "outputs": [],
   "source": [
    "auto model = RNTupleModel::Create();"
   ]
  },
  {
   "cell_type": "code",
   "execution_count": 5,
   "id": "1fc59f2f-dd3c-4fd0-b2fc-0a0b7e57ef1f",
   "metadata": {},
   "outputs": [
    {
     "name": "stderr",
     "output_type": "stream",
     "text": [
      "Warning in <[ROOT.NTuple] Warning /home/conda/feedstock_root/build_artifacts/root_base_1707256713696/work/root-source/tree/ntuple/v7/src/RNTupleSerialize.cxx:1398 in static ROOT::Experimental::RResult<void> ROOT::Experimental::Internal::RNTupleSerializer::DeserializeHeaderV1(const void*, uint32_t, ROOT::Experimental::RNTupleDescriptorBuilder&)>: Pre-release format version: RC 1\n"
     ]
    }
   ],
   "source": [
    "auto reader = RNTupleReader::Open(std::move(model),\"Compressions\",fname.c_str());"
   ]
  },
  {
   "cell_type": "code",
   "execution_count": 6,
   "id": "b000126d-7f5e-4291-adb1-7148dad892f1",
   "metadata": {},
   "outputs": [
    {
     "name": "stdout",
     "output_type": "stream",
     "text": [
      "************************************ NTUPLE ************************************\n",
      "* N-Tuple : Compressions                                                       *\n",
      "* Entries : 18000                                                              *\n",
      "********************************************************************************\n",
      "* Field 1       : out_data (std::vector<double>)                               *\n",
      "*   Field 1.1   : _0 (double)                                                  *\n",
      "* Field 2       : compressed_data (std::vector<char>)                          *\n",
      "*   Field 2.1   : _0 (char)                                                    *\n",
      "* Field 3       : parameters (std::string)                                     *\n",
      "********************************************************************************\n"
     ]
    }
   ],
   "source": [
    "reader->PrintInfo();"
   ]
  },
  {
   "cell_type": "code",
   "execution_count": 7,
   "id": "dc45335d-320e-4d79-80ab-972aa83d94f1",
   "metadata": {},
   "outputs": [],
   "source": [
    "auto params = reader->GetView<std::string>(\"parameters\");\n",
    "auto nentries = reader->GetNEntries();"
   ]
  },
  {
   "cell_type": "code",
   "execution_count": 8,
   "id": "decafe65-1b21-49fd-b9df-9eec1492a084",
   "metadata": {},
   "outputs": [],
   "source": [
    "nlohmann::json jobj = nlohmann::json::parse(params(0));"
   ]
  },
  {
   "cell_type": "code",
   "execution_count": 9,
   "id": "30714a5f-2763-4f32-bcc3-e71295b744ed",
   "metadata": {},
   "outputs": [
    {
     "name": "stdout",
     "output_type": "stream",
     "text": [
      "{\"ABS_ERROR_BOUND\":0.005,\"ALGO_OPTIONS\":0,\"Algorithm\":\"SZ3\",\"COMPRESSION_RATIO\":1328.0,\"EB_OPTIONS\":0,\"INTERP_ALGO\":0,\"L2NORM_ERROR_BOUND\":0.005,\"PSNR_ERROR_BOUND\":0.005,\"Par_name\":\"ALGO_OPTIONS, EB_OPTIONS, INTERP_ALGO,ERROR_BOUND_TYPE,ABS_ERROR_BOUND,REL_ERROR_BOUND,PSNR_ERROR_BOUND,L2NORM_ERROR_BOUND\",\"REL_ERROR_BOUND\":0.005}\n"
     ]
    }
   ],
   "source": [
    "std::cout<<jobj.dump()<<std::endl;"
   ]
  },
  {
   "cell_type": "code",
   "execution_count": 10,
   "id": "218a113e-a241-494c-9d61-a5cfa7729359",
   "metadata": {},
   "outputs": [],
   "source": [
    "std::vector<double> compress_ratio;\n",
    "std::vector<int>eb_type;\n",
    "std::vector<int>alg_type;\n",
    "for(int i = 0; i<nentries;i++){\n",
    "    nlohmann::json jobj = nlohmann::json::parse(params(i));\n",
    "    int alg_option = jobj[\"ALGO_OPTIONS\"];\n",
    "    int eb_option = jobj[\"EB_OPTIONS\"];\n",
    "    double comp_ratio = jobj[\"COMPRESSION_RATIO\"];\n",
    "    compress_ratio.push_back(comp_ratio);\n",
    "    eb_type.push_back(eb_option);\n",
    "    alg_type.push_back(alg_option);\n",
    "}\n",
    "\n"
   ]
  },
  {
   "cell_type": "code",
   "execution_count": 11,
   "id": "77900e2c-fcd6-43d0-b159-833fb3c4513a",
   "metadata": {},
   "outputs": [],
   "source": [
    "//Draw the TGraph first...\n",
    "TGraph *g = new TGraph(compress_ratio.size(),compress_ratio.data());"
   ]
  },
  {
   "cell_type": "code",
   "execution_count": 12,
   "id": "0481c80c-b463-45a9-a4fc-99ba1a2c0344",
   "metadata": {},
   "outputs": [
    {
     "name": "stderr",
     "output_type": "stream",
     "text": [
      "Info in <TCanvas::MakeDefCanvas>:  created default TCanvas with name c1\n"
     ]
    }
   ],
   "source": [
    "g->SetTitle(\"Compression Ratio; DataSets; Compression Ratio\");\n",
    "g->Draw(\"AC*\");"
   ]
  },
  {
   "cell_type": "code",
   "execution_count": 13,
   "id": "b381cba0-1c87-4703-8018-da39f682b17f",
   "metadata": {},
   "outputs": [
    {
     "name": "stderr",
     "output_type": "stream",
     "text": [
      "Info in <TCanvas::Print>: png file compression_ratio.png has been created\n"
     ]
    }
   ],
   "source": [
    "c1->SaveAs(\"compression_ratio.png\");"
   ]
  },
  {
   "cell_type": "code",
   "execution_count": 14,
   "id": "93c9c261-0270-4705-a405-a413c8040525",
   "metadata": {},
   "outputs": [
    {
     "name": "stderr",
     "output_type": "stream",
     "text": [
      "Info in <TCanvas::Print>: png file compression_histogram.png has been created\n",
      "Info in <TCanvas::SaveAs>: ROOT file compression_histogram.root has been created\n"
     ]
    }
   ],
   "source": [
    "TH1D* h = new TH1D(\"comp_hist\",\"comp_hist\",140,0,14000);\n",
    "for(size_t i = 0;i<compress_ratio.size();i++){\n",
    "    h->Fill(compress_ratio[i]);\n",
    "}\n",
    "\n",
    "auto c = new TCanvas(\"c\",\"c\",750,750);\n",
    "c->cd();\n",
    "h->Draw(\"hist\");\n",
    "c->SaveAs(\"compression_histogram.png\");\n",
    "c->SaveAs(\"compression_histogram.root\");"
   ]
  },
  {
   "cell_type": "code",
   "execution_count": 15,
   "id": "a4b6d875-e635-42f2-9086-21a67fcdf2f1",
   "metadata": {},
   "outputs": [],
   "source": [
    "TH2D* h2 = new TH2D(\"comp_dist\",\"comp_dist\",5,0,5,3,0,2);\n",
    "for(size_t i = 0;i<compress_ratio.size();i++){\n",
    "    h2->Fill(eb_type[i],alg_type[i],compress_ratio[i]);\n",
    "}\n",
    "h2->Scale(1.0/compress_ratio.size());\n",
    "h2->GetXaxis()->SetTitle(\"Error Bound Type\");\n",
    "h2->GetYaxis()->SetTitle(\"Algo Options\");\n",
    "h2->GetZaxis()->SetTitle(\"Normalized Compression ratio\");"
   ]
  },
  {
   "cell_type": "code",
   "execution_count": 17,
   "id": "0b985aa6-fca5-40be-9bba-9f9cfa11c966",
   "metadata": {},
   "outputs": [
    {
     "name": "stderr",
     "output_type": "stream",
     "text": [
      "Warning in <TCanvas::Constructor>: Deleting canvas with same name: c2\n",
      "Info in <TCanvas::Print>: png file compression_2Dhistogram.png has been created\n",
      "Info in <TCanvas::SaveAs>: ROOT file compression_2Dhistogram.root has been created\n"
     ]
    }
   ],
   "source": [
    "auto c2 = new TCanvas(\"c2\",\"c2\",950,950);\n",
    "c2->cd();\n",
    "h2->Draw(\"colz\");\n",
    "h2->SetStats(0);\n",
    "c2->SaveAs(\"compression_2Dhistogram.png\");\n",
    "c2->SaveAs(\"compression_2Dhistogram.root\");"
   ]
  },
  {
   "cell_type": "code",
   "execution_count": null,
   "id": "197b12cd-3b33-46f3-85a7-479a2c75584d",
   "metadata": {},
   "outputs": [],
   "source": []
  }
 ],
 "metadata": {
  "kernelspec": {
   "display_name": "ROOT C++",
   "language": "c++",
   "name": "root"
  },
  "language_info": {
   "codemirror_mode": "text/x-c++src",
   "file_extension": ".C",
   "mimetype": " text/x-c++src",
   "name": "c++"
  }
 },
 "nbformat": 4,
 "nbformat_minor": 5
}
