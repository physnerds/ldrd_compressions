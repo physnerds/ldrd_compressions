{
 "cells": [
  {
   "cell_type": "code",
   "execution_count": 1,
   "id": "d0acadd9-29b7-4333-a4dc-1cab0c47ad52",
   "metadata": {},
   "outputs": [
    {
     "name": "stdout",
     "output_type": "stream",
     "text": [
      "Welcome to JupyROOT 6.30/04\n"
     ]
    }
   ],
   "source": [
    "import ROOT\n",
    "import os,sys"
   ]
  },
  {
   "cell_type": "code",
   "execution_count": 2,
   "id": "ae2feb46-b1f9-4571-a013-051ee6015e25",
   "metadata": {},
   "outputs": [],
   "source": [
    "rfile_name = \"decompression_info_err10.root\"\n",
    "decomp_name = \"decompressed_value\"\n",
    "orig_histname = \"original_value\"\n",
    "ratio_name = \"compression_ratio\";"
   ]
  },
  {
   "cell_type": "code",
   "execution_count": 3,
   "id": "c4288394-a81a-418f-be17-c939d345148c",
   "metadata": {},
   "outputs": [
    {
     "name": "stdout",
     "output_type": "stream",
     "text": [
      "22992126.300789177 325356.0\n",
      "TFile**\t\tdecompression_info_err10.root\t\n",
      " TFile*\t\tdecompression_info_err10.root\t\n",
      "  KEY: TH2D\tdecompressed_value;1\tdecompressed_value\n",
      "  KEY: TH1D\tcompression_ratio;1\tcompression_ratio\n",
      "  KEY: TH2D\toriginal_value;1\tdecompressed_value\n"
     ]
    }
   ],
   "source": [
    "rfile = ROOT.TFile(rfile_name,\"READ\");\n",
    "rfile.ls()\n",
    "decomp = rfile.Get(decomp_name)\n",
    "ratio = rfile.Get(ratio_name)\n",
    "orig = rfile.Get(orig_histname)\n",
    "print(decomp.Integral(),ratio.Integral())"
   ]
  },
  {
   "cell_type": "code",
   "execution_count": 4,
   "id": "7dea2c4e-dfaa-436b-967b-57018a2b4c09",
   "metadata": {},
   "outputs": [
    {
     "name": "stdout",
     "output_type": "stream",
     "text": [
      "6268.0 -1047.0 6272.0 -1048.0\n"
     ]
    }
   ],
   "source": [
    "print(orig.GetMaximum(),orig.GetMinimum(),decomp.GetMaximum(),decomp.GetMinimum())"
   ]
  },
  {
   "cell_type": "code",
   "execution_count": 5,
   "id": "2ed43172-ca86-4774-9f46-f26fffb0b89e",
   "metadata": {},
   "outputs": [
    {
     "name": "stdout",
     "output_type": "stream",
     "text": [
      "7315.0 1828.75\n"
     ]
    }
   ],
   "source": [
    "tot_range = orig.GetMaximum() - orig.GetMinimum()\n",
    "print(tot_range,tot_range/4.0)"
   ]
  },
  {
   "cell_type": "code",
   "execution_count": 6,
   "id": "ae32cc09-8c06-4ea1-bb0e-f794eefec119",
   "metadata": {},
   "outputs": [],
   "source": [
    "x_max = 100\n",
    "x_min = -100\n",
    "tot_bins = 200\n",
    "half_range = int(tot_bins/2)\n",
    "hsys = ROOT.TH2D(\"sys\",\"sys\",tot_bins,x_min-1,x_max-1,tot_bins,x_min-1,x_max-1)\n",
    "horig_1d = ROOT.TH1D(\"orig_1d\",\"orig_1d\",half_range,0,x_max) \n",
    "hdecomp_1d = ROOT.TH1D(\"decomp_1d\",\"decomp_1d\",half_range,0,x_max) \n",
    "hdiff_1d = ROOT.TH1D(\"Absolute_Difference\",\"Absolute_Difference\",40,-10,10)"
   ]
  },
  {
   "cell_type": "code",
   "execution_count": 7,
   "id": "b88fa81e-416a-4be9-b731-c755130a49e4",
   "metadata": {},
   "outputs": [
    {
     "name": "stderr",
     "output_type": "stream",
     "text": [
      "Info in <TCanvas::Print>: png file syshist_errdecompression_info_err10.png has been created\n"
     ]
    }
   ],
   "source": [
    "xbins,ybins = orig.GetNbinsX(),orig.GetNbinsY()\n",
    "for i in range(0,xbins):\n",
    "    for j in range(0,ybins):\n",
    "        orig_val = orig.GetBinContent(i,j)\n",
    "        decomp_val = decomp.GetBinContent(i,j)\n",
    "        hsys.Fill(orig_val,decomp_val)\n",
    "        horig_1d.Fill(abs(orig_val))\n",
    "        hdecomp_1d.Fill(abs(decomp_val))\n",
    "        hdiff_1d.Fill(abs(orig_val)-abs(decomp_val))\n",
    "\n",
    "hsys.GetXaxis().SetTitle(\"Original_value\")\n",
    "hsys.GetYaxis().SetTitle(\"Decompressed_value\")\n",
    "hdiff_1d.GetXaxis().SetTitle(\"Abs(original)-Abs(decomposed)\")\n",
    "c = ROOT.TCanvas()\n",
    "c.cd()\n",
    "hsys.SetStats(0)\n",
    "hsys.Draw(\"colz\")\n",
    "name = \"syshist_err\"+rfile_name\n",
    "c.SaveAs(name.replace(\".root\",\".png\"))"
   ]
  },
  {
   "cell_type": "code",
   "execution_count": 8,
   "id": "9ded81cd-b8c3-4527-b6be-07ae41b7ddde",
   "metadata": {},
   "outputs": [
    {
     "name": "stderr",
     "output_type": "stream",
     "text": [
      "Info in <TCanvas::SaveAs>: ROOT file abs_valsdecompression_info_err10.root has been created\n"
     ]
    }
   ],
   "source": [
    "c = ROOT.TCanvas()\n",
    "c.cd()\n",
    "horig_1d.SetStats(0)\n",
    "hdecomp_1d.SetStats(0)\n",
    "horig_1d.SetLineColor(1)\n",
    "hdecomp_1d.SetLineColor(2)\n",
    "hdecomp_1d.GetXaxis().SetTitle(\"Absolute(NADC)\")\n",
    "hdecomp_1d.SetTitle(\"Decomposed\")\n",
    "horig_1d.SetTitle(\"Original\")\n",
    "hdecomp_1d.Draw(\"hist\")\n",
    "horig_1d.Draw(\"histSame\")\n",
    "c.BuildLegend()\n",
    "name = \"abs_vals\"+rfile_name\n",
    "c.SaveAs(name)"
   ]
  },
  {
   "cell_type": "code",
   "execution_count": 9,
   "id": "21def4f4-f5c4-4bec-a36b-2e142f674e42",
   "metadata": {},
   "outputs": [
    {
     "name": "stderr",
     "output_type": "stream",
     "text": [
      "Info in <TH1D::SaveAs>: ROOT file Absolute_Differencedecompression_info_err10.root has been created\n"
     ]
    }
   ],
   "source": [
    "c = ROOT.TCanvas()\n",
    "c.cd()\n",
    "hdiff_1d.SetStats(0)\n",
    "hdiff_1d.Draw(\"hist\")\n",
    "name = \"Absolute_Difference\"+rfile_name\n",
    "hdiff_1d.SaveAs(name)"
   ]
  }
 ],
 "metadata": {
  "kernelspec": {
   "display_name": "Python 3 (ipykernel)",
   "language": "python",
   "name": "python3"
  },
  "language_info": {
   "codemirror_mode": {
    "name": "ipython",
    "version": 3
   },
   "file_extension": ".py",
   "mimetype": "text/x-python",
   "name": "python",
   "nbconvert_exporter": "python",
   "pygments_lexer": "ipython3",
   "version": "3.11.8"
  }
 },
 "nbformat": 4,
 "nbformat_minor": 5
}
