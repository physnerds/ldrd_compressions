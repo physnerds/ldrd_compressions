{
 "cells": [
  {
   "cell_type": "code",
   "execution_count": 1,
   "id": "986fb710-65ce-4d4c-b6a6-6a5994251a38",
   "metadata": {},
   "outputs": [
    {
     "name": "stdout",
     "output_type": "stream",
     "text": [
      "Welcome to JupyROOT 6.28/04\n"
     ]
    }
   ],
   "source": [
    "import ROOT\n",
    "import os,sys"
   ]
  },
  {
   "cell_type": "code",
   "execution_count": 2,
   "id": "4a6ec934-5e5c-4dd1-8e77-f530bd2bd4c0",
   "metadata": {},
   "outputs": [],
   "source": [
    "rfile_name = \"decompression_info.root\"\n",
    "decomp_name = \"decompressed_value\"\n",
    "orig_histname = \"original_value\"\n",
    "ratio_name = \"compression_ratio\";"
   ]
  },
  {
   "cell_type": "code",
   "execution_count": 3,
   "id": "1a9e5f69-853c-45f4-ad0e-e599751e40da",
   "metadata": {},
   "outputs": [
    {
     "name": "stdout",
     "output_type": "stream",
     "text": [
      "45893116.39172528 134972.0\n",
      "TFile**\t\tdecompression_info.root\t\n",
      " TFile*\t\tdecompression_info.root\t\n",
      "  KEY: TH2D\tdecompressed_value;1\tdecompressed_value\n",
      "  KEY: TH1D\tcompression_ratio;1\tcompression_ratio\n",
      "  KEY: TH2D\toriginal_value;1\tdecompressed_value\n"
     ]
    }
   ],
   "source": [
    "rfile = ROOT.TFile(rfile_name,\"READ\");\n",
    "rfile.ls()\n",
    "decomp = rfile.Get(decomp_name)\n",
    "ratio = rfile.Get(ratio_name)\n",
    "orig = rfile.Get(orig_histname)\n",
    "print(decomp.Integral(),ratio.Integral())"
   ]
  },
  {
   "cell_type": "code",
   "execution_count": 4,
   "id": "a4ec36b0-dc62-408f-bc64-9c661de111bd",
   "metadata": {},
   "outputs": [
    {
     "name": "stderr",
     "output_type": "stream",
     "text": [
      "Info in <TCanvas::Print>: png file decomp.png has been created\n"
     ]
    }
   ],
   "source": [
    "c = ROOT.TCanvas()\n",
    "c.cd()\n",
    "decomp.SetMinimum(-50)\n",
    "decomp.SetMaximum(50)\n",
    "decomp.SetStats(0)\n",
    "decomp.Draw(\"colz\")\n",
    "c.SaveAs(\"decomp.png\")"
   ]
  },
  {
   "cell_type": "code",
   "execution_count": 5,
   "id": "f2c1d5f7",
   "metadata": {},
   "outputs": [],
   "source": [
    "diff = decomp.Clone()\n",
    "diff.Clear()\n",
    "xbins,ybins = diff.GetNbinsX(),diff.GetNbinsY()"
   ]
  },
  {
   "cell_type": "code",
   "execution_count": null,
   "id": "3ca027aa",
   "metadata": {},
   "outputs": [
    {
     "name": "stdout",
     "output_type": "stream",
     "text": [
      "10240 5859\n"
     ]
    }
   ],
   "source": [
    "print(xbins,ybins)\n",
    "for i in range(0,xbins+1):\n",
    "    for j in range(0,ybins+1):\n",
    "        oval = orig.GetBinContent(i,j)\n",
    "        dval = decomp.GetBinContent(i,j)\n",
    "        if oval!=0:\n",
    "            rval = (oval-dval)/oval\n",
    "        else:\n",
    "             rval = dval\n",
    "        diff.SetBinContent(i,j,rval)\n",
    "        \n",
    "c = ROOT.TCanvas()\n",
    "c.cd()\n",
    "decomp.SetMinimum(-1.2)\n",
    "decomp.SetMaximum(1.2)\n",
    "decomp.SetStats(0)\n",
    "decomp.Draw(\"colz\")\n",
    "c.SaveAs(\"diff.png\")"
   ]
  },
  {
   "cell_type": "code",
   "execution_count": null,
   "id": "c7d1b9cf-cfab-46d8-a7c5-a043a2204b26",
   "metadata": {},
   "outputs": [],
   "source": [
    "c = ROOT.TCanvas()\n",
    "c.cd()\n",
    "orig.SetMinimum(-50)\n",
    "orig.SetMaximum(50)\n",
    "orig.SetStats(0)\n",
    "orig.Draw(\"colz\")\n",
    "c.SaveAs(\"orig.png\")"
   ]
  },
  {
   "cell_type": "code",
   "execution_count": null,
   "id": "a0cf2ee3",
   "metadata": {},
   "outputs": [],
   "source": [
    "c = ROOT.TCanvas()\n",
    "c.cd()\n",
    "ratio.SetMinimum(0)\n",
    "ratio.SetMaximum(40)\n",
    "ratio.SetStats(0)\n",
    "ratio.Draw(\"hist\")\n",
    "c.SaveAs(\"ratio.png\")"
   ]
  },
  {
   "cell_type": "code",
   "execution_count": null,
   "id": "55b56374",
   "metadata": {},
   "outputs": [],
   "source": [
    "rfile_name2 = \"decompression_info_err20.root\"\n",
    "decomp_name = \"decompressed_value\"\n",
    "orig_histname = \"original_value\"\n",
    "ratio_name = \"compression_ratio\";"
   ]
  },
  {
   "cell_type": "code",
   "execution_count": null,
   "id": "0a5b71f0",
   "metadata": {},
   "outputs": [],
   "source": [
    "rfile2 = ROOT.TFile(rfile_name2,\"READ\");\n",
    "rfile2.ls()\n",
    "decomp2 = rfile2.Get(decomp_name)\n",
    "ratio2 = rfile2.Get(ratio_name)\n",
    "orig2 = rfile2.Get(orig_histname)\n",
    "print(decomp2.Integral(),ratio2.Integral())"
   ]
  },
  {
   "cell_type": "code",
   "execution_count": null,
   "id": "ae42910a",
   "metadata": {},
   "outputs": [],
   "source": [
    "c = ROOT.TCanvas()\n",
    "c.cd()\n",
    "decomp2.SetMinimum(-50)\n",
    "decomp2.SetMaximum(50)\n",
    "decomp2.SetStats(0)\n",
    "decomp2.Draw(\"colz\")\n",
    "c.SaveAs(\"decomp2.png\")"
   ]
  },
  {
   "cell_type": "code",
   "execution_count": null,
   "id": "f104fac2",
   "metadata": {},
   "outputs": [],
   "source": [
    "c = ROOT.TCanvas()\n",
    "c.cd()\n",
    "orig2.SetMinimum(-50)\n",
    "orig2.SetMaximum(50)\n",
    "orig2.SetStats(0)\n",
    "orig2.Draw(\"colz\")\n",
    "c.SaveAs(\"orig2.png\")"
   ]
  },
  {
   "cell_type": "code",
   "execution_count": null,
   "id": "58fbaaf6",
   "metadata": {},
   "outputs": [],
   "source": [
    "c = ROOT.TCanvas()\n",
    "c.cd()\n",
    "ratio2.SetMinimum(0)\n",
    "ratio2.SetMaximum(40)\n",
    "ratio2.SetStats(0)\n",
    "ratio2.Draw(\"hist\")\n",
    "ratio.SetLineColor(2)\n",
    "ratio.Draw(\"histSame\")\n",
    "c.SaveAs(\"ratio2.png\")"
   ]
  },
  {
   "cell_type": "code",
   "execution_count": null,
   "id": "62835373",
   "metadata": {},
   "outputs": [],
   "source": [
    "diff2 = decomp2.Clone()\n",
    "diff2.Clear()\n",
    "\n",
    "print(xbins,ybins)\n",
    "for i in range(0,xbins+1):\n",
    "    for j in range(0,ybins+1):\n",
    "        oval = orig2.GetBinContent(i,j)\n",
    "        dval = decomp2.GetBinContent(i,j)\n",
    "        if oval!=0:\n",
    "            rval = (oval-dval)/oval\n",
    "        else:\n",
    "             rval = dval\n",
    "        diff2.SetBinContent(i,j,rval)\n",
    "        \n",
    "c = ROOT.TCanvas()\n",
    "c.cd()\n",
    "decomp2.SetMinimum(-1.2)\n",
    "decomp2.SetMaximum(1.2)\n",
    "decomp2.SetStats(0)\n",
    "decomp2.Draw(\"colz\")\n",
    "c.SaveAs(\"diff2.png\")"
   ]
  },
  {
   "cell_type": "code",
   "execution_count": null,
   "id": "ca82a324",
   "metadata": {},
   "outputs": [],
   "source": [
    "xorig = orig.ProjectionX(\"xoriginal\")\n",
    "xdecomp = decomp.ProjectionX(\"xdecomp\")\n",
    "\n",
    "xorig.SetTitle(\"Original\")\n",
    "xdecomp.SetTitle(\"Decomposed\")\n",
    "\n",
    "xorig.GetXaxis().SetTitle(\"Channel Number\")\n",
    "xorig.GetYaxis().SetTitle(\"Time Integrated NADCS\")\n",
    "max_val = xorig.GetMaximum()\n",
    "xorig.SetMaximum(max_val+max_val*0.1)\n",
    "\n",
    "xdecomp.SetLineColor(2)\n",
    "c = ROOT.TCanvas()\n",
    "c.cd()\n",
    "xorig.Draw(\"hist\")\n",
    "xdecomp.Draw(\"histSame\")\n",
    "c.BuildLegend()\n",
    "c.SaveAs(\"X_Projected.png\")"
   ]
  },
  {
   "cell_type": "code",
   "execution_count": null,
   "id": "418a6647",
   "metadata": {},
   "outputs": [],
   "source": [
    "xdiff = xorig.Clone(\"difference_hist\")\n",
    "xdiff.GetYaxis().SetTitle(\"Original - Decomposed Total ADCs\")\n",
    "xdiff.Add(xdecomp,-1)\n",
    "c = ROOT.TCanvas()\n",
    "c.cd()\n",
    "xdiff.Draw(\"hist\")\n",
    "c.SaveAs(\"X_Projected_Difference.png\")"
   ]
  },
  {
   "cell_type": "code",
   "execution_count": null,
   "id": "9c0a7abe",
   "metadata": {},
   "outputs": [],
   "source": [
    "print(xorig.Integral(),xdecomp.Integral())"
   ]
  },
  {
   "cell_type": "code",
   "execution_count": null,
   "id": "85a30fc5",
   "metadata": {},
   "outputs": [],
   "source": [
    "print(xorig.GetMaximum())"
   ]
  },
  {
   "cell_type": "code",
   "execution_count": null,
   "id": "92c64f0a",
   "metadata": {},
   "outputs": [],
   "source": [
    "xrms_orig = xorig.Clone(\"OrigRMSHist\")\n",
    "xrms_orig.Clear()\n",
    "\n",
    "xrms_decomp = xorig.Clone(\"DecompRMSHistErr10\")\n",
    "xrms_decomp.Clear()\n",
    "xrms_decomp2 = xorig.Clone(\"DecompRMSHistErr20\")\n",
    "\n",
    "for i in range(0,ybins):\n",
    "        start_x = i\n",
    "        end_x = i+1\n",
    "        temp_orig = orig.ProjectionX(\"t_orig\",start_x,end_x)\n",
    "        temp_decomp = decomp.ProjectionX(\"t_decomp\",start_x,end_x)\n",
    "        temp_decomp2 = decomp2.ProjectionX(\"t_decomp2\",start_x,end_x)\n",
    "        rms_orig = temp_orig.GetRMS()\n",
    "        rms_decomp = temp_decomp.GetRMS()\n",
    "        rms_decomp2 = temp_decomp2.GetRMS()\n",
    "        xrms_orig.SetBinContent(i,rms_orig)\n",
    "        xrms_decomp.SetBinContent(i,rms_decomp)\n",
    "        xrms_decomp2.SetBinContent(i,rms_decomp2)\n",
    "        \n",
    "c = ROOT.TCanvas()\n",
    "c.cd()\n",
    "max_val = xrms_orig.GetMaximum()\n",
    "xrms_orig.SetMaximum(max_val+0.1*max_val)\n",
    "xrms_orig.SetTitle(\"Original\")\n",
    "xrms_decomp.SetTitle(\"10% Error\")\n",
    "xrms_decomp2.SetTitle(\"20% Error\")\n",
    "xrms_orig.GetXaxis().SetTitle(\"Channel Number\")\n",
    "xrms_orig.GetYaxis().SetTitle(\"RMS of ADCs\")\n",
    "xrms_decomp.SetLineColor(2)\n",
    "xrms_decomp2.SetLineColor(4)\n",
    "xrms_orig.SetStats(0)\n",
    "xrms_orig.Draw(\"hist\")\n",
    "xrms_decomp.Draw(\"histSame\")\n",
    "xrms_decomp2.Draw(\"histSame\")\n",
    "c.BuildLegend()\n",
    "c.SaveAs(\"RMS_Comparisons.root\")"
   ]
  },
  {
   "cell_type": "markdown",
   "id": "9a64077d",
   "metadata": {},
   "source": [
    "###  Because the signals are way above the error margin, Maximum value for decomposed and raw remain constant."
   ]
  },
  {
   "cell_type": "code",
   "execution_count": null,
   "id": "76657a7d",
   "metadata": {},
   "outputs": [],
   "source": [
    "print(max_val,xrms_decomp.GetMaximum(),xrms_decomp2.Integral())"
   ]
  },
  {
   "cell_type": "markdown",
   "id": "64c55ed5",
   "metadata": {},
   "source": [
    "### Integral shows how far RMS are compared to original"
   ]
  },
  {
   "cell_type": "code",
   "execution_count": null,
   "id": "86b797df",
   "metadata": {},
   "outputs": [],
   "source": [
    "xrms_decomp.Integral(),xrms_orig.Integral(), xrms_decomp2.Integral()"
   ]
  },
  {
   "cell_type": "code",
   "execution_count": null,
   "id": "c00332ff",
   "metadata": {},
   "outputs": [],
   "source": [
    "xrms_decompdiff = xrms_decomp.Clone(\"DecompDiffErr10\")\n",
    "xrms_decompdiff2 = xrms_decomp2.Clone(\"DecompDiffErr10\")\n",
    "\n",
    "xrms_decompdiff.Add(xrms_orig,-1)\n",
    "xrms_decompdiff2.Add(xrms_orig,-1)\n",
    "\n",
    "xrms_decompdiff.SetLineColor(2)\n",
    "xrms_decompdiff2.SetLineColor(4)\n",
    "\n",
    "xrms_decompdiff.SetTitle(\"10% Error\")\n",
    "xrms_decompdiff2.SetTitle(\"20% Error\")\n",
    "\n",
    "xrms_decompdiff.GetYaxis().SetTitle(\"Decomposed - Original\")\n",
    "c = ROOT.TCanvas()\n",
    "c.cd()\n",
    "xrms_decompdiff.Draw(\"hist\")\n",
    "xrms_decompdiff2.Draw(\"histSame\")\n",
    "c.BuildLegend()\n",
    "c.SaveAs(\"RMS_Difference.root\")"
   ]
  }
 ],
 "metadata": {
  "kernelspec": {
   "display_name": "Python 3 (ipykernel)",
   "language": "python",
   "name": "python3"
  },
  "language_info": {
   "codemirror_mode": {
    "name": "ipython",
    "version": 3
   },
   "file_extension": ".py",
   "mimetype": "text/x-python",
   "name": "python",
   "nbconvert_exporter": "python",
   "pygments_lexer": "ipython3",
   "version": "3.11.6"
  }
 },
 "nbformat": 4,
 "nbformat_minor": 5
}
