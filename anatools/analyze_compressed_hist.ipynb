{
 "cells": [
  {
   "cell_type": "code",
   "execution_count": 1,
   "id": "986fb710-65ce-4d4c-b6a6-6a5994251a38",
   "metadata": {},
   "outputs": [
    {
     "name": "stdout",
     "output_type": "stream",
     "text": [
      "Welcome to JupyROOT 6.30/04\n"
     ]
    }
   ],
   "source": [
    "import ROOT\n",
    "import os,sys"
   ]
  },
  {
   "cell_type": "code",
   "execution_count": 2,
   "id": "4a6ec934-5e5c-4dd1-8e77-f530bd2bd4c0",
   "metadata": {},
   "outputs": [],
   "source": [
    "rfile_name = \"decompression_info_err10.root\"\n",
    "decomp_name = \"decompressed_value\"\n",
    "orig_histname = \"original_value\"\n",
    "ratio_name = \"compression_ratio\";"
   ]
  },
  {
   "cell_type": "code",
   "execution_count": 3,
   "id": "1a9e5f69-853c-45f4-ad0e-e599751e40da",
   "metadata": {},
   "outputs": [
    {
     "name": "stdout",
     "output_type": "stream",
     "text": [
      "45893116.39172528 275336.0\n",
      "TFile**\t\tdecompression_info_err10.root\t\n",
      " TFile*\t\tdecompression_info_err10.root\t\n",
      "  KEY: TH2D\tdecompressed_value;1\tdecompressed_value\n",
      "  KEY: TH1D\tcompression_ratio;1\tcompression_ratio\n",
      "  KEY: TH2D\toriginal_value;1\tdecompressed_value\n"
     ]
    }
   ],
   "source": [
    "rfile = ROOT.TFile(rfile_name,\"READ\");\n",
    "rfile.ls()\n",
    "decomp = rfile.Get(decomp_name)\n",
    "ratio = rfile.Get(ratio_name)\n",
    "orig = rfile.Get(orig_histname)\n",
    "print(decomp.Integral(),ratio.Integral())"
   ]
  },
  {
   "cell_type": "code",
   "execution_count": 4,
   "id": "a4ec36b0-dc62-408f-bc64-9c661de111bd",
   "metadata": {},
   "outputs": [
    {
     "name": "stderr",
     "output_type": "stream",
     "text": [
      "Info in <TCanvas::Print>: png file decomp.png has been created\n"
     ]
    }
   ],
   "source": [
    "c = ROOT.TCanvas()\n",
    "c.cd()\n",
    "decomp.SetMinimum(-50)\n",
    "decomp.SetMaximum(50)\n",
    "decomp.SetStats(0)\n",
    "decomp.Draw(\"colz\")\n",
    "c.SaveAs(\"decomp.png\")"
   ]
  },
  {
   "cell_type": "code",
   "execution_count": 5,
   "id": "c2aac270",
   "metadata": {},
   "outputs": [],
   "source": [
    "diff = decomp.Clone()\n",
    "diff.Clear()\n",
    "xbins,ybins = diff.GetNbinsX(),diff.GetNbinsY()"
   ]
  },
  {
   "cell_type": "code",
   "execution_count": 23,
   "id": "86bba05f",
   "metadata": {},
   "outputs": [],
   "source": [
    "#print(xbins,ybins)\n",
    "for i in range(0,xbins+1):\n",
    "    for j in range(0,ybins+1):\n",
    "        oval = orig.GetBinContent(i,j)\n",
    "        dval = decomp.GetBinContent(i,j)\n",
    "        if oval!=0:\n",
    "            rval = (oval-dval)\n",
    "        else:\n",
    "            rval =(oval-dval)\n",
    "        diff.SetBinContent(i,j,rval)\n",
    "        "
   ]
  },
  {
   "cell_type": "code",
   "execution_count": 24,
   "id": "c65c6157-4515-49dc-83d2-aa1d6b7adb17",
   "metadata": {},
   "outputs": [
    {
     "name": "stderr",
     "output_type": "stream",
     "text": [
      "Info in <TCanvas::SaveAs>: ROOT file diff.root has been created\n",
      "Info in <TCanvas::Print>: png file diff.png has been created\n"
     ]
    }
   ],
   "source": [
    "c = ROOT.TCanvas()\n",
    "c.cd()\n",
    "diff.SetMinimum(-10)\n",
    "diff.SetMaximum(10)\n",
    "diff.SetStats(0)\n",
    "diff.Draw(\"colz\")\n",
    "c.SaveAs(\"diff.root\")\n",
    "c.SaveAs(\"diff.png\")"
   ]
  },
  {
   "cell_type": "code",
   "execution_count": 19,
   "id": "c7d1b9cf-cfab-46d8-a7c5-a043a2204b26",
   "metadata": {},
   "outputs": [
    {
     "name": "stderr",
     "output_type": "stream",
     "text": [
      "Info in <TCanvas::Print>: png file orig.png has been created\n"
     ]
    }
   ],
   "source": [
    "c = ROOT.TCanvas()\n",
    "c.cd()\n",
    "orig.SetMinimum(-50)\n",
    "orig.SetMaximum(50)\n",
    "orig.SetStats(0)\n",
    "orig.SetTitle(\"Original\")\n",
    "orig.Draw(\"colz\")\n",
    "c.SaveAs(\"orig.png\")"
   ]
  },
  {
   "cell_type": "code",
   "execution_count": 8,
   "id": "9355517d",
   "metadata": {},
   "outputs": [
    {
     "name": "stderr",
     "output_type": "stream",
     "text": [
      "Info in <TCanvas::Print>: png file ratio.png has been created\n"
     ]
    }
   ],
   "source": [
    "c = ROOT.TCanvas()\n",
    "c.cd()\n",
    "ratio.SetMinimum(0)\n",
    "ratio.SetMaximum(40)\n",
    "ratio.SetStats(0)\n",
    "ratio.Draw(\"hist\")\n",
    "c.SaveAs(\"ratio.png\")"
   ]
  },
  {
   "cell_type": "code",
   "execution_count": 9,
   "id": "0f95b326",
   "metadata": {},
   "outputs": [],
   "source": [
    "rfile_name2 = \"decompression_info_err20.root\"\n",
    "decomp_name = \"decompressed_value\"\n",
    "orig_histname = \"original_value\"\n",
    "ratio_name = \"compression_ratio\";"
   ]
  },
  {
   "cell_type": "code",
   "execution_count": 10,
   "id": "4f4b5f7e-a421-4b28-9ab0-6afee27f8efb",
   "metadata": {},
   "outputs": [
    {
     "name": "stdout",
     "output_type": "stream",
     "text": [
      "45927481.53408877 391508.0\n",
      "TFile**\t\tdecompression_info_err20.root\t\n",
      " TFile*\t\tdecompression_info_err20.root\t\n",
      "  KEY: TH2D\tdecompressed_value;1\tdecompressed_value\n",
      "  KEY: TH1D\tcompression_ratio;1\tcompression_ratio\n",
      "  KEY: TH2D\toriginal_value;1\tdecompressed_value\n"
     ]
    }
   ],
   "source": [
    "rfile2 = ROOT.TFile(rfile_name2,\"READ\");\n",
    "rfile2.ls()\n",
    "decomp2 = rfile2.Get(decomp_name)\n",
    "ratio2 = rfile2.Get(ratio_name)\n",
    "orig2 = rfile2.Get(orig_histname)\n",
    "print(decomp2.Integral(),ratio2.Integral())"
   ]
  },
  {
   "cell_type": "code",
   "execution_count": 11,
   "id": "5bbccd0e-c85b-4de2-be60-21ed4bbd383d",
   "metadata": {},
   "outputs": [
    {
     "name": "stderr",
     "output_type": "stream",
     "text": [
      "Info in <TCanvas::Print>: png file decomp2.png has been created\n"
     ]
    }
   ],
   "source": [
    "c = ROOT.TCanvas()\n",
    "c.cd()\n",
    "decomp2.SetMinimum(-50)\n",
    "decomp2.SetMaximum(50)\n",
    "decomp2.SetStats(0)\n",
    "decomp2.Draw(\"colz\")\n",
    "c.SaveAs(\"decomp2.png\")"
   ]
  },
  {
   "cell_type": "code",
   "execution_count": 12,
   "id": "9258a38b-7ab3-4be9-8434-7e945ae4a1b2",
   "metadata": {},
   "outputs": [
    {
     "name": "stdout",
     "output_type": "stream",
     "text": [
      "10240 5859\n"
     ]
    },
    {
     "name": "stderr",
     "output_type": "stream",
     "text": [
      "Info in <TCanvas::SaveAs>: ROOT file diff2.root has been created\n"
     ]
    }
   ],
   "source": [
    "diff2 = decomp2.Clone()\n",
    "diff2.Clear()\n",
    "\n",
    "print(xbins,ybins)\n",
    "for i in range(0,xbins+1):\n",
    "    for j in range(0,ybins+1):\n",
    "        oval = orig2.GetBinContent(i,j)\n",
    "        dval = decomp2.GetBinContent(i,j)\n",
    "        rval = (oval-dval)\n",
    "\n",
    "        diff2.SetBinContent(i,j,rval)\n",
    "        \n",
    "c = ROOT.TCanvas()\n",
    "c.cd()\n",
    "diff2.SetMinimum(-5)\n",
    "diff2.SetMaximum(5)\n",
    "diff2.SetStats(0)\n",
    "diff2.Draw(\"colz\")\n",
    "c.SaveAs(\"diff2.root\")"
   ]
  },
  {
   "cell_type": "code",
   "execution_count": 12,
   "id": "86e01805-d680-4503-9c27-5f8b91d59bb2",
   "metadata": {},
   "outputs": [],
   "source": [
    "rfile_name3 = \"decompression_info_err50.root\"\n",
    "decomp_name = \"decompressed_value\"\n",
    "orig_histname = \"original_value\"\n",
    "ratio_name = \"compression_ratio\";"
   ]
  },
  {
   "cell_type": "code",
   "execution_count": 13,
   "id": "f5258502",
   "metadata": {},
   "outputs": [
    {
     "name": "stdout",
     "output_type": "stream",
     "text": [
      "47001943.213435255 741018.0\n",
      "TFile**\t\tdecompression_info_err50.root\t\n",
      " TFile*\t\tdecompression_info_err50.root\t\n",
      "  KEY: TH2D\tdecompressed_value;1\tdecompressed_value\n",
      "  KEY: TH1D\tcompression_ratio;1\tcompression_ratio\n",
      "  KEY: TH2D\toriginal_value;1\tdecompressed_value\n"
     ]
    }
   ],
   "source": [
    "rfile3 = ROOT.TFile(rfile_name3,\"READ\");\n",
    "rfile3.ls()\n",
    "decomp3 = rfile3.Get(decomp_name)\n",
    "ratio3 = rfile3.Get(ratio_name)\n",
    "orig3 = rfile3.Get(orig_histname)\n",
    "print(decomp3.Integral(),ratio3.Integral())"
   ]
  },
  {
   "cell_type": "code",
   "execution_count": 14,
   "id": "22bc6b66",
   "metadata": {},
   "outputs": [
    {
     "name": "stderr",
     "output_type": "stream",
     "text": [
      "Info in <TCanvas::Print>: png file decomp3.png has been created\n"
     ]
    }
   ],
   "source": [
    "c = ROOT.TCanvas()\n",
    "c.cd()\n",
    "decomp3.SetMinimum(-50)\n",
    "decomp3.SetMaximum(50)\n",
    "decomp3.SetStats(0)\n",
    "decomp3.Draw(\"colz\")\n",
    "c.SaveAs(\"decomp3.png\")"
   ]
  },
  {
   "cell_type": "code",
   "execution_count": 15,
   "id": "58ebca36",
   "metadata": {},
   "outputs": [
    {
     "name": "stderr",
     "output_type": "stream",
     "text": [
      "Info in <TCanvas::SaveAs>: ROOT file compression_ratio_all.root has been created\n"
     ]
    }
   ],
   "source": [
    "c = ROOT.TCanvas()\n",
    "c.cd()\n",
    "ratio3.SetMinimum(0)\n",
    "ratio3.SetMaximum(150)\n",
    "ratio3.SetStats(0)\n",
    "ratio2.SetLineColor(4)\n",
    "ratio3.Draw(\"hist\")\n",
    "ratio.SetLineColor(2)\n",
    "ratio.Draw(\"histSame\")\n",
    "ratio2.Draw(\"histSame\")\n",
    "c.SaveAs(\"compression_ratio_all.root\")"
   ]
  },
  {
   "cell_type": "code",
   "execution_count": 16,
   "id": "5b747128",
   "metadata": {},
   "outputs": [
    {
     "name": "stdout",
     "output_type": "stream",
     "text": [
      "10240 5859\n"
     ]
    },
    {
     "name": "stderr",
     "output_type": "stream",
     "text": [
      "Info in <TCanvas::SaveAs>: ROOT file diff2.root has been created\n"
     ]
    }
   ],
   "source": []
  },
  {
   "cell_type": "code",
   "execution_count": 17,
   "id": "b7ff8ec8-a89b-432c-82ea-ee0c101b8b02",
   "metadata": {},
   "outputs": [
    {
     "name": "stdout",
     "output_type": "stream",
     "text": [
      "10240 5859\n"
     ]
    },
    {
     "name": "stderr",
     "output_type": "stream",
     "text": [
      "Info in <TCanvas::SaveAs>: ROOT file diff3.root has been created\n"
     ]
    }
   ],
   "source": [
    "diff3 = decomp3.Clone()\n",
    "diff3.Clear()\n",
    "\n",
    "print(xbins,ybins)\n",
    "for i in range(0,xbins+1):\n",
    "    for j in range(0,ybins+1):\n",
    "        oval = orig3.GetBinContent(i,j)\n",
    "        dval = decomp3.GetBinContent(i,j)\n",
    "        rval = (oval-dval)\n",
    "\n",
    "        diff3.SetBinContent(i,j,rval)\n",
    "        \n",
    "c = ROOT.TCanvas()\n",
    "c.cd()\n",
    "diff3.SetMinimum(-1.2)\n",
    "diff3.SetMaximum(1.2)\n",
    "diff3.SetStats(0)\n",
    "diff3.Draw(\"colz\")\n",
    "c.SaveAs(\"diff3.root\")\n",
    "c.SaveAs(\"diff3.png\")"
   ]
  },
  {
   "cell_type": "code",
   "execution_count": 18,
   "id": "20c9190c",
   "metadata": {},
   "outputs": [
    {
     "name": "stderr",
     "output_type": "stream",
     "text": [
      "Info in <TCanvas::Print>: png file X_Projected.png has been created\n"
     ]
    }
   ],
   "source": [
    "xorig = orig.ProjectionX(\"xoriginal\")\n",
    "xdecomp = decomp.ProjectionX(\"xdecomp\")\n",
    "\n",
    "xorig.SetTitle(\"Original\")\n",
    "xdecomp.SetTitle(\"Decomposed\")\n",
    "\n",
    "xorig.GetXaxis().SetTitle(\"Channel Number\")\n",
    "xorig.GetYaxis().SetTitle(\"Time Integrated NADCS\")\n",
    "max_val = xorig.GetMaximum()\n",
    "xorig.SetMaximum(max_val+max_val*0.1)\n",
    "\n",
    "xdecomp.SetLineColor(2)\n",
    "c = ROOT.TCanvas()\n",
    "c.cd()\n",
    "xorig.Draw(\"hist\")\n",
    "xdecomp.Draw(\"histSame\")\n",
    "c.BuildLegend()\n",
    "c.SaveAs(\"X_Projected.png\")"
   ]
  },
  {
   "cell_type": "code",
   "execution_count": 19,
   "id": "e929e172",
   "metadata": {},
   "outputs": [
    {
     "name": "stderr",
     "output_type": "stream",
     "text": [
      "Info in <TCanvas::Print>: png file X_Projected_Difference.png has been created\n"
     ]
    }
   ],
   "source": [
    "xdiff = xorig.Clone(\"difference_hist\")\n",
    "xdiff.GetYaxis().SetTitle(\"Original - Decomposed Total ADCs\")\n",
    "xdiff.Add(xdecomp,-1)\n",
    "c = ROOT.TCanvas()\n",
    "c.cd()\n",
    "xdiff.Draw(\"hist\")\n",
    "c.SaveAs(\"X_Projected_Difference.png\")"
   ]
  },
  {
   "cell_type": "code",
   "execution_count": 20,
   "id": "d7f5a477",
   "metadata": {},
   "outputs": [
    {
     "name": "stdout",
     "output_type": "stream",
     "text": [
      "45818173.0 45893116.39172554\n"
     ]
    }
   ],
   "source": [
    "print(xorig.Integral(),xdecomp.Integral())"
   ]
  },
  {
   "cell_type": "code",
   "execution_count": 21,
   "id": "cadc60f5",
   "metadata": {},
   "outputs": [
    {
     "name": "stdout",
     "output_type": "stream",
     "text": [
      "260822.1\n"
     ]
    }
   ],
   "source": [
    "print(xorig.GetMaximum())"
   ]
  },
  {
   "cell_type": "code",
   "execution_count": 22,
   "id": "bc8a3c94",
   "metadata": {},
   "outputs": [
    {
     "name": "stderr",
     "output_type": "stream",
     "text": [
      "Info in <TCanvas::SaveAs>: ROOT file RMS_Comparisons.root has been created\n"
     ]
    }
   ],
   "source": [
    "xrms_orig = xorig.Clone(\"OrigRMSHist\")\n",
    "xrms_orig.Clear()\n",
    "\n",
    "xrms_decomp = xorig.Clone(\"DecompRMSHistErr10\")\n",
    "xrms_decomp.Clear()\n",
    "xrms_decomp2 = xorig.Clone(\"DecompRMSHistErr20\")\n",
    "xrms_decomp2.Clear()\n",
    "xrms_decomp3 = xorig.Clone(\"DecompRMSHistErr20\")\n",
    "xrms_decomp3.Clear()\n",
    "\n",
    "for i in range(0,xbins):\n",
    "    start_x = i\n",
    "    end_x = i+1\n",
    "    temp_orig = orig.ProjectionY(\"t_orig\",start_x,end_x)\n",
    "    temp_decomp = decomp.ProjectionY(\"t_decomp\",start_x,end_x)\n",
    "    temp_decomp2 = decomp2.ProjectionY(\"t_decomp2\",start_x,end_x)\n",
    "    temp_decomp3 = decomp3.ProjectionY(\"t_decomp3\",start_x,end_x)\n",
    "    rms_orig = temp_orig.GetRMS()\n",
    "    rms_decomp = temp_decomp.GetRMS()\n",
    "    rms_decomp2 = temp_decomp2.GetRMS()\n",
    "    rms_decomp3 = temp_decomp3.GetRMS()\n",
    "    xrms_orig.SetBinContent(i,rms_orig)\n",
    "    xrms_decomp.SetBinContent(i,rms_decomp)\n",
    "    xrms_decomp2.SetBinContent(i,rms_decomp2)\n",
    "    xrms_decomp3.SetBinContent(i,rms_decomp3)\n",
    "        \n",
    "c = ROOT.TCanvas()\n",
    "c.cd()\n",
    "max_val = xrms_orig.GetMaximum()\n",
    "xrms_orig.SetMaximum(max_val+0.1*max_val)\n",
    "xrms_orig.SetTitle(\"Original\")\n",
    "xrms_decomp.SetTitle(\"10% Error\")\n",
    "xrms_decomp2.SetTitle(\"20% Error\")\n",
    "xrms_decomp3.SetTitle(\"50% Error\")\n",
    "xrms_orig.GetXaxis().SetTitle(\"Channel Number\")\n",
    "xrms_orig.GetYaxis().SetTitle(\"RMS of ADCs\")\n",
    "xrms_decomp.SetLineColor(2)\n",
    "xrms_decomp2.SetLineColor(4)\n",
    "xrms_decomp3.SetLineColor(5)\n",
    "xrms_orig.SetStats(0)\n",
    "xrms_orig.Draw(\"hist\")\n",
    "xrms_decomp.Draw(\"histSame\")\n",
    "xrms_decomp2.Draw(\"histSame\")\n",
    "xrms_decomp3.Draw(\"histSame\")\n",
    "c.BuildLegend()\n",
    "c.SaveAs(\"RMS_Comparisons.root\")"
   ]
  },
  {
   "cell_type": "markdown",
   "id": "ef82f0a3",
   "metadata": {},
   "source": [
    "###  Because the signals are way above the error margin, Maximum value for decomposed and raw remain constant."
   ]
  },
  {
   "cell_type": "code",
   "execution_count": 23,
   "id": "52875e26",
   "metadata": {},
   "outputs": [
    {
     "name": "stdout",
     "output_type": "stream",
     "text": [
      "260822.1 260822.1 3236660.765924775\n"
     ]
    }
   ],
   "source": [
    "print(max_val,xrms_decomp.GetMaximum(),xrms_decomp2.Integral())"
   ]
  },
  {
   "cell_type": "markdown",
   "id": "eec63e8a",
   "metadata": {},
   "source": [
    "### Integral shows how far RMS are compared to original"
   ]
  },
  {
   "cell_type": "code",
   "execution_count": 24,
   "id": "f3adf1fb",
   "metadata": {},
   "outputs": [
    {
     "data": {
      "text/plain": [
       "(3222244.4447520105, 3246117.483582457, 3236660.765924775)"
      ]
     },
     "execution_count": 24,
     "metadata": {},
     "output_type": "execute_result"
    }
   ],
   "source": [
    "xrms_decomp.Integral(),xrms_orig.Integral(), xrms_decomp2.Integral()"
   ]
  },
  {
   "cell_type": "code",
   "execution_count": 26,
   "id": "7af5ed40",
   "metadata": {},
   "outputs": [
    {
     "name": "stderr",
     "output_type": "stream",
     "text": [
      "Info in <TCanvas::SaveAs>: ROOT file RMS_Difference.root has been created\n"
     ]
    }
   ],
   "source": [
    "xrms_decompdiff = xrms_decomp.Clone(\"DecompDiffErr10\")\n",
    "xrms_decompdiff2 = xrms_decomp2.Clone(\"DecompDiffErr20\")\n",
    "xrms_decompdiff3 = xrms_decomp3.Clone(\"DecompDiffErr20\")\n",
    "\n",
    "xrms_decompdiff.Add(xrms_orig,-1)\n",
    "xrms_decompdiff2.Add(xrms_orig,-1)\n",
    "xrms_decompdiff3.Add(xrms_orig,-1)\n",
    "\n",
    "xrms_decompdiff.SetLineColor(2)\n",
    "xrms_decompdiff2.SetLineColor(4)\n",
    "xrms_decompdiff3.SetLineColor(5)\n",
    "\n",
    "xrms_decompdiff.SetTitle(\"10% Error\")\n",
    "xrms_decompdiff2.SetTitle(\"20% Error\")\n",
    "xrms_decompdiff3.SetTitle(\"50% Error\")\n",
    "xrms_decompdiff.GetYaxis().SetTitle(\"Decomposed - Original\")\n",
    "c = ROOT.TCanvas()\n",
    "c.cd()\n",
    "xrms_decompdiff.Draw(\"hist\")\n",
    "xrms_decompdiff2.Draw(\"histSame\")\n",
    "xrms_decompdiff3.Draw(\"histSame\")\n",
    "c.BuildLegend()\n",
    "c.SaveAs(\"RMS_Difference.root\")"
   ]
  },
  {
   "cell_type": "code",
   "execution_count": null,
   "id": "e54d80d2",
   "metadata": {},
   "outputs": [],
   "source": []
  },
  {
   "cell_type": "code",
   "execution_count": null,
   "id": "24e7955f",
   "metadata": {},
   "outputs": [],
   "source": []
  }
 ],
 "metadata": {
  "kernelspec": {
   "display_name": "Python 3 (ipykernel)",
   "language": "python",
   "name": "python3"
  },
  "language_info": {
   "codemirror_mode": {
    "name": "ipython",
    "version": 3
   },
   "file_extension": ".py",
   "mimetype": "text/x-python",
   "name": "python",
   "nbconvert_exporter": "python",
   "pygments_lexer": "ipython3",
   "version": "3.11.8"
  }
 },
 "nbformat": 4,
 "nbformat_minor": 5
}
