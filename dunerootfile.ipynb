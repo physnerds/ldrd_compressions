{
 "cells": [
  {
   "cell_type": "code",
   "execution_count": 1,
   "id": "bf1a9d7f-d450-4cab-ba22-6ee897798836",
   "metadata": {},
   "outputs": [
    {
     "name": "stdout",
     "output_type": "stream",
     "text": [
      "Welcome to JupyROOT 6.28/04\n"
     ]
    }
   ],
   "source": [
    "import os,sys\n",
    "import ROOT\n",
    "import h5py\n",
    "import numpy as np"
   ]
  },
  {
   "cell_type": "code",
   "execution_count": 2,
   "id": "8b7a92c2-7361-4de2-98be-e99d0eaf06f4",
   "metadata": {},
   "outputs": [],
   "source": [
    "rfilename = \"new_magnify2-28052-20833.root\""
   ]
  },
  {
   "cell_type": "code",
   "execution_count": 3,
   "id": "a9e49c18-192c-44f1-86fb-1bb54becbd48",
   "metadata": {},
   "outputs": [
    {
     "name": "stdout",
     "output_type": "stream",
     "text": [
      "TFile**\t\tnew_magnify2-28052-20833.root\t\n",
      " TFile*\t\tnew_magnify2-28052-20833.root\t\n",
      "  KEY: TH2I\th_orig;1\th_orig\n",
      "  KEY: TH2I\thu_orig;1\thu_orig\n",
      "  KEY: TH2I\thv_orig;1\thv_orig\n",
      "  KEY: TH2I\thw_orig;1\thw_orig\n",
      "  KEY: TH1I\th_baseline;1\th_baseline\n",
      "  KEY: TH1I\thu_baseline;1\thu_baseline\n",
      "  KEY: TH1I\thv_baseline;1\thv_baseline\n",
      "  KEY: TH1I\thw_baseline;1\thw_baseline\n",
      "  KEY: TH2F\th_raw;1\th_raw\n",
      "  KEY: TH2F\thu_raw;1\thu_raw\n",
      "  KEY: TH2F\thv_raw;1\thv_raw\n",
      "  KEY: TH2F\thw_raw;1\thw_raw\n"
     ]
    }
   ],
   "source": [
    "rfile = ROOT.TFile(rfilename,\"read\")\n",
    "rfile.ls()"
   ]
  },
  {
   "cell_type": "code",
   "execution_count": 4,
   "id": "8c59fb13-2a31-488a-b849-a2326e294a06",
   "metadata": {},
   "outputs": [],
   "source": [
    "histname = \"h_orig\"\n",
    "hist = rfile.Get(histname)"
   ]
  },
  {
   "cell_type": "code",
   "execution_count": 5,
   "id": "a1c896e6-06a0-463d-8205-59feea83a749",
   "metadata": {},
   "outputs": [],
   "source": [
    "xbins = hist.GetNbinsX()\n",
    "ybins = hist.GetNbinsY()"
   ]
  },
  {
   "cell_type": "code",
   "execution_count": 6,
   "id": "7a114edd-8f2e-4b32-a0d0-710d5f7c23b9",
   "metadata": {},
   "outputs": [
    {
     "name": "stderr",
     "output_type": "stream",
     "text": [
      "Info in <TCanvas::Print>: png file h_orig.png has been created\n"
     ]
    }
   ],
   "source": [
    "## use the rainbow palette which has better visual\n",
    "ROOT.gStyle.SetPalette(ROOT.kRainBow)\n",
    "canvas = ROOT.TCanvas()\n",
    "canvas.cd()\n",
    "hist.SetStats(0)\n",
    "hist.SetTitle(\"Proto-DUNE Raw Data\")\n",
    "hist.GetXaxis().SetTitle(\"Channel Numbers\")\n",
    "hist.GetYaxis().SetTitle(\"NTicks\")\n",
    "hist.SetMaximum(50)\n",
    "hist.SetMinimum(-50)\n",
    "hist.Draw(\"colz\")\n",
    "canvas.SaveAs(histname+\".png\")"
   ]
  },
  {
   "cell_type": "code",
   "execution_count": 7,
   "id": "1038e337-ff0e-4848-ad7c-fda81619fd41",
   "metadata": {},
   "outputs": [
    {
     "name": "stdout",
     "output_type": "stream",
     "text": [
      "10240 5859\n"
     ]
    },
    {
     "name": "stderr",
     "output_type": "stream",
     "text": [
      "Info in <TCanvas::Print>: png file h_orig_totY.png has been created\n"
     ]
    }
   ],
   "source": [
    "print(xbins,ybins)\n",
    "#also do the total projection of Y\n",
    "totY = hist.ProjectionY()\n",
    "totY.SetTitle(\"Total ADC\")\n",
    "totY.GetXaxis().SetTitle(\"Number of Ticks\")\n",
    "totY.GetYaxis().SetTitle(\"Number of Counts\")\n",
    "totY.SetStats(0)\n",
    "canvas.cd()\n",
    "totY.Draw(\"hist\")\n",
    "canvas.SaveAs(histname+\"_totY.png\")"
   ]
  },
  {
   "cell_type": "markdown",
   "id": "f671caef-e85a-4340-a86f-e9843f16d108",
   "metadata": {},
   "source": [
    "## Xbins -> Channel numbers (Each apa has 2560 channels). This file for 4 APAS\n",
    "## YBins --> Ticks"
   ]
  },
  {
   "cell_type": "code",
   "execution_count": 8,
   "id": "19f0cf86-267f-4fe5-a225-83c1c6f49fef",
   "metadata": {},
   "outputs": [
    {
     "data": {
      "text/plain": [
       "103903057"
      ]
     },
     "execution_count": 8,
     "metadata": {},
     "output_type": "execute_result"
    }
   ],
   "source": [
    "ofilename = rfilename.replace(\".root\",\"_1D.root\")\n",
    "ofile = ROOT.TFile(ofilename,\"RECREATE\")\n",
    "ofile.cd()\n",
    "#now create an output file for each \n",
    "for i in range(0,xbins): # for each channels\n",
    "    xlow = i\n",
    "    xhigh = i+1\n",
    "    temp_name = \"waveform_\"+str(xlow)\n",
    "    temp_hist = hist.ProjectionY(temp_name,xlow, xhigh,\"\")\n",
    "    temp_hist.Write()\n",
    "        \n",
    "ofile.Write()"
   ]
  },
  {
   "cell_type": "code",
   "execution_count": 9,
   "id": "98bde357-ad02-4ac8-a01d-49c655ed1bfc",
   "metadata": {},
   "outputs": [],
   "source": [
    "ofile.Close()"
   ]
  },
  {
   "cell_type": "markdown",
   "id": "231a5b19-9300-4712-9997-dfb29b2a4e65",
   "metadata": {},
   "source": [
    "## now write the 1-D waveforms in the HDF5 File as well.."
   ]
  },
  {
   "cell_type": "code",
   "execution_count": 10,
   "id": "60725764-9ecf-4620-98ae-5e3dfd1d878a",
   "metadata": {},
   "outputs": [],
   "source": [
    "h5filename = ofilename.replace(\".root\",\".h5\")\n",
    "hfile = h5py.File(h5filename,'w')"
   ]
  },
  {
   "cell_type": "code",
   "execution_count": 11,
   "id": "42ef8555-9bf7-4ab6-bba3-280b6be04982",
   "metadata": {},
   "outputs": [],
   "source": [
    "ofile = ROOT.TFile(ofilename,\"READ\")\n",
    "for i in range(0,xbins):\n",
    "    dsetname = \"waveform_\"+str(i)\n",
    "    temp_hist = ofile.Get(dsetname)\n",
    "    bin_content = np.array([temp_hist.GetBinContent(i) for i in range(0,temp_hist.GetNbinsX()+1)])\n",
    "    hfile.create_dataset(dsetname,data=bin_content)\n",
    "\n",
    "ofile.Close()\n",
    "hfile.close()"
   ]
  },
  {
   "cell_type": "code",
   "execution_count": null,
   "id": "249b9ccb-89a4-4c9a-bc99-cdd3b6be0cbb",
   "metadata": {},
   "outputs": [],
   "source": []
  }
 ],
 "metadata": {
  "kernelspec": {
   "display_name": "Python 3 (ipykernel)",
   "language": "python",
   "name": "python3"
  },
  "language_info": {
   "codemirror_mode": {
    "name": "ipython",
    "version": 3
   },
   "file_extension": ".py",
   "mimetype": "text/x-python",
   "name": "python",
   "nbconvert_exporter": "python",
   "pygments_lexer": "ipython3",
   "version": "3.11.6"
  }
 },
 "nbformat": 4,
 "nbformat_minor": 5
}
