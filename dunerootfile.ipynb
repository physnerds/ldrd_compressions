{
 "cells": [
  {
   "cell_type": "code",
   "execution_count": 1,
   "id": "bf1a9d7f-d450-4cab-ba22-6ee897798836",
   "metadata": {},
   "outputs": [
    {
     "name": "stdout",
     "output_type": "stream",
     "text": [
      "Welcome to JupyROOT 6.30/04\n"
     ]
    }
   ],
   "source": [
    "import os,sys\n",
    "import ROOT\n",
    "import h5py\n",
    "import numpy as np"
   ]
  },
  {
   "cell_type": "code",
   "execution_count": 2,
   "id": "8b7a92c2-7361-4de2-98be-e99d0eaf06f4",
   "metadata": {},
   "outputs": [],
   "source": [
    "rfilename = \"new_magnify2-28052-20833.root\""
   ]
  },
  {
   "cell_type": "code",
   "execution_count": 3,
   "id": "a9e49c18-192c-44f1-86fb-1bb54becbd48",
   "metadata": {},
   "outputs": [
    {
     "name": "stdout",
     "output_type": "stream",
     "text": [
      "TFile**\t\tnew_magnify2-28052-20833.root\t\n",
      " TFile*\t\tnew_magnify2-28052-20833.root\t\n",
      "  KEY: TH2I\th_orig;1\th_orig\n",
      "  KEY: TH2I\thu_orig;1\thu_orig\n",
      "  KEY: TH2I\thv_orig;1\thv_orig\n",
      "  KEY: TH2I\thw_orig;1\thw_orig\n",
      "  KEY: TH1I\th_baseline;1\th_baseline\n",
      "  KEY: TH1I\thu_baseline;1\thu_baseline\n",
      "  KEY: TH1I\thv_baseline;1\thv_baseline\n",
      "  KEY: TH1I\thw_baseline;1\thw_baseline\n",
      "  KEY: TH2F\th_raw;1\th_raw\n",
      "  KEY: TH2F\thu_raw;1\thu_raw\n",
      "  KEY: TH2F\thv_raw;1\thv_raw\n",
      "  KEY: TH2F\thw_raw;1\thw_raw\n"
     ]
    }
   ],
   "source": [
    "rfile = ROOT.TFile(rfilename,\"read\")\n",
    "rfile.ls()"
   ]
  },
  {
   "cell_type": "code",
   "execution_count": 4,
   "id": "8c59fb13-2a31-488a-b849-a2326e294a06",
   "metadata": {},
   "outputs": [],
   "source": [
    "histname = \"h_orig\"\n",
    "hist = rfile.Get(histname)"
   ]
  },
  {
   "cell_type": "code",
   "execution_count": 5,
   "id": "a1c896e6-06a0-463d-8205-59feea83a749",
   "metadata": {},
   "outputs": [],
   "source": [
    "xbins = hist.GetNbinsX()\n",
    "ybins = hist.GetNbinsY()"
   ]
  },
  {
   "cell_type": "code",
   "execution_count": 6,
   "id": "7a114edd-8f2e-4b32-a0d0-710d5f7c23b9",
   "metadata": {},
   "outputs": [
    {
     "name": "stderr",
     "output_type": "stream",
     "text": [
      "Info in <TCanvas::Print>: png file h_orig.png has been created\n"
     ]
    }
   ],
   "source": [
    "## use the rainbow palette which has better visual\n",
    "ROOT.gStyle.SetPalette(ROOT.kRainBow)\n",
    "canvas = ROOT.TCanvas()\n",
    "canvas.cd()\n",
    "hist.SetStats(0)\n",
    "hist.SetTitle(\"Proto-DUNE Raw Data\")\n",
    "hist.GetXaxis().SetTitle(\"Channel Numbers\")\n",
    "hist.GetYaxis().SetTitle(\"NTicks\")\n",
    "hist.SetMaximum(50)\n",
    "hist.SetMinimum(-50)\n",
    "hist.Draw(\"colz\")\n",
    "canvas.SaveAs(histname+\".png\")"
   ]
  },
  {
   "cell_type": "code",
   "execution_count": 7,
   "id": "1038e337-ff0e-4848-ad7c-fda81619fd41",
   "metadata": {},
   "outputs": [
    {
     "name": "stdout",
     "output_type": "stream",
     "text": [
      "10240 5859\n"
     ]
    },
    {
     "name": "stderr",
     "output_type": "stream",
     "text": [
      "Info in <TCanvas::Print>: png file h_orig_totY.png has been created\n"
     ]
    }
   ],
   "source": [
    "print(xbins,ybins)\n",
    "#also do the total projection of Y\n",
    "totY = hist.ProjectionY()\n",
    "totY.SetTitle(\"Total ADC\")\n",
    "totY.GetXaxis().SetTitle(\"Number of Ticks\")\n",
    "totY.GetYaxis().SetTitle(\"Number of Counts\")\n",
    "totY.SetStats(0)\n",
    "canvas.cd()\n",
    "totY.Draw(\"hist\")\n",
    "canvas.SaveAs(histname+\"_totY.png\")"
   ]
  },
  {
   "cell_type": "markdown",
   "id": "f671caef-e85a-4340-a86f-e9843f16d108",
   "metadata": {},
   "source": [
    "## Xbins -> Channel numbers (Each apa has 2560 channels). This file for 4 APAS\n",
    "## YBins --> Ticks"
   ]
  },
  {
   "cell_type": "code",
   "execution_count": 8,
   "id": "19f0cf86-267f-4fe5-a225-83c1c6f49fef",
   "metadata": {},
   "outputs": [
    {
     "name": "stdout",
     "output_type": "stream",
     "text": [
      "22912053.0 22912053.0\n"
     ]
    }
   ],
   "source": [
    "ofilename = rfilename.replace(\".root\",\"_1D.root\")\n",
    "ofile = ROOT.TFile(ofilename,\"RECREATE\")\n",
    "ofile.cd()\n",
    "tot_int = 0\n",
    "#now create an output file for each \n",
    "for i in range(0,xbins+1): # for each channels\n",
    "    xlow = i\n",
    "    xhigh = i\n",
    "    temp_name = \"waveform_\"+str(xlow)\n",
    "    temp_hist = hist.ProjectionY(temp_name,xlow, xhigh,\"\")\n",
    "    tot_int+= temp_hist.Integral()\n",
    "    temp_hist.Write()\n",
    "        \n",
    "ofile.Write()\n",
    "print(hist.Integral(),tot_int)"
   ]
  },
  {
   "cell_type": "code",
   "execution_count": 9,
   "id": "98bde357-ad02-4ac8-a01d-49c655ed1bfc",
   "metadata": {},
   "outputs": [],
   "source": [
    "ofile.Close()"
   ]
  },
  {
   "cell_type": "markdown",
   "id": "231a5b19-9300-4712-9997-dfb29b2a4e65",
   "metadata": {},
   "source": [
    "## now write the 1-D waveforms in the HDF5 File as well.."
   ]
  },
  {
   "cell_type": "code",
   "execution_count": 10,
   "id": "60725764-9ecf-4620-98ae-5e3dfd1d878a",
   "metadata": {},
   "outputs": [],
   "source": [
    "h5filename = ofilename.replace(\".root\",\".h5\")\n",
    "hfile = h5py.File(h5filename,'w')"
   ]
  },
  {
   "cell_type": "code",
   "execution_count": 11,
   "id": "42ef8555-9bf7-4ab6-bba3-280b6be04982",
   "metadata": {},
   "outputs": [],
   "source": [
    "ofile = ROOT.TFile(ofilename,\"READ\")\n",
    "for i in range(0,xbins+1):\n",
    "    dsetname = \"waveform_\"+str(i)\n",
    "    temp_hist = ofile.Get(dsetname)\n",
    "    bin_content = np.array([temp_hist.GetBinContent(i) for i in range(0,temp_hist.GetNbinsX()+1)])\n",
    "    hfile.create_dataset(dsetname,data=bin_content)\n",
    "\n",
    "ofile.Close()\n",
    "hfile.close()"
   ]
  },
  {
   "cell_type": "markdown",
   "id": "7a7874a1-ff66-4551-8bce-0b46aa67e650",
   "metadata": {},
   "source": [
    "## As a verification, I would verify that original and 2d created from 1 projected histograms are identical."
   ]
  },
  {
   "cell_type": "code",
   "execution_count": 12,
   "id": "4f519e4a-799c-4962-b66b-3f810bbc827d",
   "metadata": {},
   "outputs": [],
   "source": [
    "rec_hist = ROOT.TH2D(\"recohist\",\"recohist\",xbins,-0.5,10239.5,ybins,0,ybins)\n",
    "hfile =  h5py.File(h5filename,'r')\n",
    "for i in range(0,xbins+1):\n",
    "    dsetname = \"waveform_\"+str(i)\n",
    "    dset = hfile[dsetname][:]\n",
    "    for j in range(0,len(dset)):\n",
    "        rec_hist.SetBinContent(i,j,dset[j])"
   ]
  },
  {
   "cell_type": "code",
   "execution_count": 13,
   "id": "23504ff0-2d23-4b86-b3e3-e4e2b36bb778",
   "metadata": {},
   "outputs": [
    {
     "data": {
      "text/plain": [
       "True"
      ]
     },
     "execution_count": 13,
     "metadata": {},
     "output_type": "execute_result"
    }
   ],
   "source": [
    "hratio = rec_hist.Clone(\"cloned_rec\")\n",
    "hratio.Divide(hist)"
   ]
  },
  {
   "cell_type": "code",
   "execution_count": 14,
   "id": "1386c4ea-ec78-48a5-b4e2-6c8c31b2ed02",
   "metadata": {},
   "outputs": [
    {
     "name": "stdout",
     "output_type": "stream",
     "text": [
      "10240 5859 10240 5859\n"
     ]
    }
   ],
   "source": [
    "print(hist.GetNbinsX(),hist.GetNbinsY(),rec_hist.GetNbinsX(),rec_hist.GetNbinsY())"
   ]
  },
  {
   "cell_type": "code",
   "execution_count": 18,
   "id": "ecedccdc-a03a-4a2a-b41a-db6ad1e17246",
   "metadata": {},
   "outputs": [
    {
     "name": "stderr",
     "output_type": "stream",
     "text": [
      "Info in <TCanvas::Print>: png file verification_ratio.png has been created\n"
     ]
    }
   ],
   "source": [
    "c = ROOT.TCanvas()\n",
    "c.cd()\n",
    "hratio.SetStats(0)\n",
    "hratio.Draw(\"colz\")\n",
    "hratio.SetMinimum(-0.95)\n",
    "hratio.SetMaximum(1.05)\n",
    "hratio.Draw(\"colz\")\n",
    "c.SaveAs(\"verification_ratio.png\")"
   ]
  },
  {
   "cell_type": "code",
   "execution_count": 16,
   "id": "c09cb46b-c2ce-4c29-a261-ed174d602397",
   "metadata": {},
   "outputs": [
    {
     "data": {
      "text/plain": [
       "(22912053.0, 22912053.0)"
      ]
     },
     "execution_count": 16,
     "metadata": {},
     "output_type": "execute_result"
    }
   ],
   "source": [
    "rec_hist.Integral(),hist.Integral()"
   ]
  },
  {
   "cell_type": "code",
   "execution_count": 17,
   "id": "53c75a4b-8337-4fb5-aa8c-a4019df197e7",
   "metadata": {},
   "outputs": [
    {
     "data": {
      "text/plain": [
       "0.0"
      ]
     },
     "execution_count": 17,
     "metadata": {},
     "output_type": "execute_result"
    }
   ],
   "source": [
    "rec_hist.Integral()-hist.Integral()"
   ]
  }
 ],
 "metadata": {
  "kernelspec": {
   "display_name": "Python 3 (ipykernel)",
   "language": "python",
   "name": "python3"
  },
  "language_info": {
   "codemirror_mode": {
    "name": "ipython",
    "version": 3
   },
   "file_extension": ".py",
   "mimetype": "text/x-python",
   "name": "python",
   "nbconvert_exporter": "python",
   "pygments_lexer": "ipython3",
   "version": "3.11.8"
  }
 },
 "nbformat": 4,
 "nbformat_minor": 5
}
