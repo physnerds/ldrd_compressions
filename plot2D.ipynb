{
 "cells": [
  {
   "cell_type": "code",
   "execution_count": 1,
   "id": "5df6e876-cf45-4fb3-bdeb-05e69c4369c5",
   "metadata": {},
   "outputs": [
    {
     "name": "stdout",
     "output_type": "stream",
     "text": [
      "Welcome to JupyROOT 6.30/04\n"
     ]
    }
   ],
   "source": [
    "import h5py, os,sys\n",
    "import ROOT"
   ]
  },
  {
   "cell_type": "code",
   "execution_count": 2,
   "id": "e5c1e120-00a0-4aa9-a0de-d05dc6a6db81",
   "metadata": {},
   "outputs": [],
   "source": [
    "file_path=\"waveforms.h5\"\n",
    "\n",
    "hfile = h5py.File(file_path,'r')"
   ]
  },
  {
   "cell_type": "code",
   "execution_count": 3,
   "id": "08233f52-8d74-48c6-8e6f-edfb0b554afc",
   "metadata": {},
   "outputs": [],
   "source": [
    "import numpy as np"
   ]
  },
  {
   "cell_type": "code",
   "execution_count": 4,
   "id": "acd86aa9-ac68-4bbf-91f8-8a86d943a9a0",
   "metadata": {},
   "outputs": [],
   "source": [
    "xbins=500\n",
    "xmin = 0\n",
    "xmax = 499\n",
    "ybins = 2001\n",
    "ymin = 0\n",
    "ymax = 200000\n",
    "\n",
    "\n",
    "hist = ROOT.TH2D(\"Waveforms\",\"ADC vs. Channel Number\",xbins,xmin,xmax,ybins,ymin, ymax)\n",
    "for i in range(0,500):\n",
    "    dsetname = \"waveform_\"+str(i)\n",
    "    dset = hfile[dsetname][:]\n",
    "    for j in range(0,len(dset)):\n",
    "        hist.Fill(i,j,dset[j])"
   ]
  },
  {
   "cell_type": "code",
   "execution_count": 5,
   "id": "36d3d851-778a-4de8-b8e5-e490fa9cddbd",
   "metadata": {},
   "outputs": [
    {
     "data": {
      "text/plain": [
       "50473486.76310151"
      ]
     },
     "execution_count": 5,
     "metadata": {},
     "output_type": "execute_result"
    }
   ],
   "source": [
    "hist.Integral()"
   ]
  },
  {
   "cell_type": "code",
   "execution_count": 6,
   "id": "5818e445-71ce-4b1b-ace2-71e49c9846f5",
   "metadata": {},
   "outputs": [
    {
     "name": "stderr",
     "output_type": "stream",
     "text": [
      "Info in <TCanvas::Print>: png file 2Dhist.png has been created\n"
     ]
    }
   ],
   "source": [
    "c = ROOT.TCanvas(\"c\",\"c\",750,750)\n",
    "c.cd()\n",
    "hist.Draw(\"colz\")\n",
    "c.Print(\"2Dhist.png\")"
   ]
  },
  {
   "cell_type": "code",
   "execution_count": null,
   "id": "f331b03f-7548-43b0-85fb-ceb14f858b89",
   "metadata": {},
   "outputs": [],
   "source": []
  }
 ],
 "metadata": {
  "kernelspec": {
   "display_name": "Python 3 (ipykernel)",
   "language": "python",
   "name": "python3"
  },
  "language_info": {
   "codemirror_mode": {
    "name": "ipython",
    "version": 3
   },
   "file_extension": ".py",
   "mimetype": "text/x-python",
   "name": "python",
   "nbconvert_exporter": "python",
   "pygments_lexer": "ipython3",
   "version": "3.8.18"
  }
 },
 "nbformat": 4,
 "nbformat_minor": 5
}
